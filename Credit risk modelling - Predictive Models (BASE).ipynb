{
 "cells": [
  {
   "cell_type": "markdown",
   "id": "c84bcd57",
   "metadata": {},
   "source": [
    "## 1. Variable Identification\n",
    "- **Numerical**\n",
    "    - X1: Amount of the given credit (NT dollar): it includes both the individual consumer credit and his/her family (supplementary) credit - **Discrete**\n",
    "    - X5: Age (year) - **Discrete**\n",
    "    - X12-X17: Amount of bill statement (NT dollar). X12 = amount of bill statement in September, 2005; X13 = amount of bill statement in August, 2005; . . .; X17 = amount of bill statement in April, 2005 - **Discrete**\n",
    "    - X18-X23: Amount of previous payment (NT dollar). X18 = amount paid in September, 2005; X19 = amount paid in August, 2005; . . .;X23 = amount paid in April, 2005 - **Discrete**\n",
    "- **Categorical**\n",
    "    - **Y: default payment (Yes = 1, No = 0) - Target Variable/Nominal**\n",
    "    - X2: Gender (1 = male; 2 = female) - **Nominal**\n",
    "    - X3: Education (1 = graduate school; 2 = university; 3 = high school; 4 = others) - **Nominal/Ordinal**\n",
    "    - X4: Marital status (1 = married; 2 = single; 3 = others) - **Nominal**\n",
    "    - X6 - X11: History of past payment. We tracked the past monthly payment records (from April to September, 2005) as follows: X6 = the repayment status in September, 2005; X7 = the repayment status in August, 2005; . . .;X11 = the repayment status in April, 2005. The measurement scale for the repayment status is: -1 = pay duly; 1 = payment delay for one month; 2 = payment delay for two months; . . .; 8 = payment delay for eight months; 9 = payment delay for nine months and above - **Nominal/Ordinal**"
   ]
  },
  {
   "cell_type": "code",
   "execution_count": 61,
   "id": "5e7c3563",
   "metadata": {},
   "outputs": [],
   "source": [
    "# ---------------------- import libraries\n",
    "import pandas as pd\n",
    "import numpy as np\n",
    "\n",
    "\n",
    "from sklearn.tree import DecisionTreeClassifier\n",
    "from sklearn.ensemble import RandomForestClassifier\n",
    "from sklearn.linear_model import LogisticRegression\n",
    "from sklearn.svm import SVC\n",
    "from sklearn.neighbors import KNeighborsClassifier\n",
    "from sklearn.naive_bayes import GaussianNB\n",
    "from sklearn.ensemble import GradientBoostingClassifier\n",
    "from sklearn.ensemble import AdaBoostClassifier\n",
    "from sklearn.neural_network import MLPClassifier\n",
    "\n",
    "from sklearn.model_selection import train_test_split\n",
    "from sklearn.metrics import confusion_matrix\n",
    "from sklearn.metrics import classification_report\n",
    "from sklearn import metrics\n",
    "\n",
    "# ---------------- set random seed to produce reproducible results\n",
    "from numpy.random import seed\n",
    "seed(1)"
   ]
  },
  {
   "cell_type": "code",
   "execution_count": 62,
   "id": "61c05ac8",
   "metadata": {},
   "outputs": [],
   "source": [
    "# ----------------------- import dataset\n",
    "data = pd.read_csv('C:\\\\Users\\\\Inno Mvula\\\\Desktop\\\\Kaggle files\\\\Projects - Classification\\\\CreditDefault\\\\default-of-credit-card-clients.csv', skiprows = 1)\n",
    "data = data[:]"
   ]
  },
  {
   "cell_type": "code",
   "execution_count": 63,
   "id": "6c298968",
   "metadata": {},
   "outputs": [
    {
     "data": {
      "text/plain": [
       "Index(['ID', 'LIMIT_BAL', 'SEX', 'EDUCATION', 'MARRIAGE', 'AGE', 'PAY_0',\n",
       "       'PAY_2', 'PAY_3', 'PAY_4', 'PAY_5', 'PAY_6', 'BILL_AMT1', 'BILL_AMT2',\n",
       "       'BILL_AMT3', 'BILL_AMT4', 'BILL_AMT5', 'BILL_AMT6', 'PAY_AMT1',\n",
       "       'PAY_AMT2', 'PAY_AMT3', 'PAY_AMT4', 'PAY_AMT5', 'PAY_AMT6',\n",
       "       'default payment next month'],\n",
       "      dtype='object')"
      ]
     },
     "execution_count": 63,
     "metadata": {},
     "output_type": "execute_result"
    }
   ],
   "source": [
    "data.columns"
   ]
  },
  {
   "cell_type": "code",
   "execution_count": 64,
   "id": "3ded457d",
   "metadata": {},
   "outputs": [],
   "source": [
    "data.columns = ['ID', 'LIMIT_BAL', 'SEX', 'EDUCATION', 'MARRIAGE', 'AGE', 'PAY_SEP',\n",
    "       'PAY_AUG', 'PAY_JUL', 'PAY_JUN', 'PAY_MAY', 'PAY_APR', 'BILL_AMT_SEP', 'BILL_AMT_AUG',\n",
    "       'BILL_AMT_JUL', 'BILL_AMT_JUN', 'BILL_AMT_MAY', 'BILL_AMT_APR', 'PAY_AMT_SEP',\n",
    "       'PAY_AMT_AUG', 'PAY_AMT_JUL', 'PAY_AMT_JUN', 'PAY_AMT_MAY', 'PAY_AMT_APR',\n",
    "       'def_pay']"
   ]
  },
  {
   "cell_type": "code",
   "execution_count": 65,
   "id": "65ee1b41",
   "metadata": {},
   "outputs": [],
   "source": [
    "# ------------------------ variables\n",
    "feat = ['LIMIT_BAL', 'SEX', 'EDUCATION', 'MARRIAGE', 'AGE', 'PAY_SEP',\n",
    "       'PAY_AUG', 'PAY_JUL', 'PAY_JUN', 'PAY_MAY', 'PAY_APR', 'BILL_AMT_SEP', 'BILL_AMT_AUG',\n",
    "       'BILL_AMT_JUL', 'BILL_AMT_JUN', 'BILL_AMT_MAY', 'BILL_AMT_APR', 'PAY_AMT_SEP',\n",
    "       'PAY_AMT_AUG', 'PAY_AMT_JUL', 'PAY_AMT_JUN', 'PAY_AMT_MAY', 'PAY_AMT_APR']\n",
    "num_data = ['LIMIT_BAL', 'AGE', 'BILL_AMT_SEP', 'BILL_AMT_AUG', 'BILL_AMT_JUL', 'BILL_AMT_JUN', 'BILL_AMT_MAY', 'BILL_AMT_APR', 'PAY_AMT_SEP',\n",
    "            'PAY_AMT_AUG', 'PAY_AMT_JUL', 'PAY_AMT_JUN', 'PAY_AMT_MAY', 'PAY_AMT_APR']\n",
    "cat_data = ['SEX', 'EDUCATION', 'MARRIAGE', 'PAY_SEP', 'PAY_AUG', 'PAY_JUL', 'PAY_JUN', 'PAY_MAY', 'PAY_APR']\n",
    "target = 'def_pay'"
   ]
  },
  {
   "cell_type": "code",
   "execution_count": 66,
   "id": "7fa795b4",
   "metadata": {},
   "outputs": [
    {
     "data": {
      "text/html": [
       "<div>\n",
       "<style scoped>\n",
       "    .dataframe tbody tr th:only-of-type {\n",
       "        vertical-align: middle;\n",
       "    }\n",
       "\n",
       "    .dataframe tbody tr th {\n",
       "        vertical-align: top;\n",
       "    }\n",
       "\n",
       "    .dataframe thead th {\n",
       "        text-align: right;\n",
       "    }\n",
       "</style>\n",
       "<table border=\"1\" class=\"dataframe\">\n",
       "  <thead>\n",
       "    <tr style=\"text-align: right;\">\n",
       "      <th></th>\n",
       "      <th>ID</th>\n",
       "      <th>LIMIT_BAL</th>\n",
       "      <th>SEX</th>\n",
       "      <th>EDUCATION</th>\n",
       "      <th>MARRIAGE</th>\n",
       "      <th>AGE</th>\n",
       "      <th>PAY_SEP</th>\n",
       "      <th>PAY_AUG</th>\n",
       "      <th>PAY_JUL</th>\n",
       "      <th>PAY_JUN</th>\n",
       "      <th>...</th>\n",
       "      <th>BILL_AMT_JUN</th>\n",
       "      <th>BILL_AMT_MAY</th>\n",
       "      <th>BILL_AMT_APR</th>\n",
       "      <th>PAY_AMT_SEP</th>\n",
       "      <th>PAY_AMT_AUG</th>\n",
       "      <th>PAY_AMT_JUL</th>\n",
       "      <th>PAY_AMT_JUN</th>\n",
       "      <th>PAY_AMT_MAY</th>\n",
       "      <th>PAY_AMT_APR</th>\n",
       "      <th>def_pay</th>\n",
       "    </tr>\n",
       "  </thead>\n",
       "  <tbody>\n",
       "    <tr>\n",
       "      <th>0</th>\n",
       "      <td>1</td>\n",
       "      <td>20000</td>\n",
       "      <td>2</td>\n",
       "      <td>2</td>\n",
       "      <td>1</td>\n",
       "      <td>24</td>\n",
       "      <td>2</td>\n",
       "      <td>2</td>\n",
       "      <td>-1</td>\n",
       "      <td>-1</td>\n",
       "      <td>...</td>\n",
       "      <td>0</td>\n",
       "      <td>0</td>\n",
       "      <td>0</td>\n",
       "      <td>0</td>\n",
       "      <td>689</td>\n",
       "      <td>0</td>\n",
       "      <td>0</td>\n",
       "      <td>0</td>\n",
       "      <td>0</td>\n",
       "      <td>1</td>\n",
       "    </tr>\n",
       "    <tr>\n",
       "      <th>1</th>\n",
       "      <td>2</td>\n",
       "      <td>120000</td>\n",
       "      <td>2</td>\n",
       "      <td>2</td>\n",
       "      <td>2</td>\n",
       "      <td>26</td>\n",
       "      <td>-1</td>\n",
       "      <td>2</td>\n",
       "      <td>0</td>\n",
       "      <td>0</td>\n",
       "      <td>...</td>\n",
       "      <td>3272</td>\n",
       "      <td>3455</td>\n",
       "      <td>3261</td>\n",
       "      <td>0</td>\n",
       "      <td>1000</td>\n",
       "      <td>1000</td>\n",
       "      <td>1000</td>\n",
       "      <td>0</td>\n",
       "      <td>2000</td>\n",
       "      <td>1</td>\n",
       "    </tr>\n",
       "    <tr>\n",
       "      <th>2</th>\n",
       "      <td>3</td>\n",
       "      <td>90000</td>\n",
       "      <td>2</td>\n",
       "      <td>2</td>\n",
       "      <td>2</td>\n",
       "      <td>34</td>\n",
       "      <td>0</td>\n",
       "      <td>0</td>\n",
       "      <td>0</td>\n",
       "      <td>0</td>\n",
       "      <td>...</td>\n",
       "      <td>14331</td>\n",
       "      <td>14948</td>\n",
       "      <td>15549</td>\n",
       "      <td>1518</td>\n",
       "      <td>1500</td>\n",
       "      <td>1000</td>\n",
       "      <td>1000</td>\n",
       "      <td>1000</td>\n",
       "      <td>5000</td>\n",
       "      <td>0</td>\n",
       "    </tr>\n",
       "    <tr>\n",
       "      <th>3</th>\n",
       "      <td>4</td>\n",
       "      <td>50000</td>\n",
       "      <td>2</td>\n",
       "      <td>2</td>\n",
       "      <td>1</td>\n",
       "      <td>37</td>\n",
       "      <td>0</td>\n",
       "      <td>0</td>\n",
       "      <td>0</td>\n",
       "      <td>0</td>\n",
       "      <td>...</td>\n",
       "      <td>28314</td>\n",
       "      <td>28959</td>\n",
       "      <td>29547</td>\n",
       "      <td>2000</td>\n",
       "      <td>2019</td>\n",
       "      <td>1200</td>\n",
       "      <td>1100</td>\n",
       "      <td>1069</td>\n",
       "      <td>1000</td>\n",
       "      <td>0</td>\n",
       "    </tr>\n",
       "    <tr>\n",
       "      <th>4</th>\n",
       "      <td>5</td>\n",
       "      <td>50000</td>\n",
       "      <td>1</td>\n",
       "      <td>2</td>\n",
       "      <td>1</td>\n",
       "      <td>57</td>\n",
       "      <td>-1</td>\n",
       "      <td>0</td>\n",
       "      <td>-1</td>\n",
       "      <td>0</td>\n",
       "      <td>...</td>\n",
       "      <td>20940</td>\n",
       "      <td>19146</td>\n",
       "      <td>19131</td>\n",
       "      <td>2000</td>\n",
       "      <td>36681</td>\n",
       "      <td>10000</td>\n",
       "      <td>9000</td>\n",
       "      <td>689</td>\n",
       "      <td>679</td>\n",
       "      <td>0</td>\n",
       "    </tr>\n",
       "  </tbody>\n",
       "</table>\n",
       "<p>5 rows × 25 columns</p>\n",
       "</div>"
      ],
      "text/plain": [
       "   ID  LIMIT_BAL  SEX  EDUCATION  MARRIAGE  AGE  PAY_SEP  PAY_AUG  PAY_JUL  \\\n",
       "0   1      20000    2          2         1   24        2        2       -1   \n",
       "1   2     120000    2          2         2   26       -1        2        0   \n",
       "2   3      90000    2          2         2   34        0        0        0   \n",
       "3   4      50000    2          2         1   37        0        0        0   \n",
       "4   5      50000    1          2         1   57       -1        0       -1   \n",
       "\n",
       "   PAY_JUN  ...  BILL_AMT_JUN  BILL_AMT_MAY  BILL_AMT_APR  PAY_AMT_SEP  \\\n",
       "0       -1  ...             0             0             0            0   \n",
       "1        0  ...          3272          3455          3261            0   \n",
       "2        0  ...         14331         14948         15549         1518   \n",
       "3        0  ...         28314         28959         29547         2000   \n",
       "4        0  ...         20940         19146         19131         2000   \n",
       "\n",
       "   PAY_AMT_AUG  PAY_AMT_JUL  PAY_AMT_JUN  PAY_AMT_MAY  PAY_AMT_APR  def_pay  \n",
       "0          689            0            0            0            0        1  \n",
       "1         1000         1000         1000            0         2000        1  \n",
       "2         1500         1000         1000         1000         5000        0  \n",
       "3         2019         1200         1100         1069         1000        0  \n",
       "4        36681        10000         9000          689          679        0  \n",
       "\n",
       "[5 rows x 25 columns]"
      ]
     },
     "execution_count": 66,
     "metadata": {},
     "output_type": "execute_result"
    }
   ],
   "source": [
    "data.head()"
   ]
  },
  {
   "cell_type": "markdown",
   "id": "5df9dcbb",
   "metadata": {},
   "source": [
    "## 2. Split the data into a training and test set\n",
    "- Training data - 25000 values\n",
    "- Test data - 5000 values\n",
    "- Drop ID column as it currently has no relevance for now."
   ]
  },
  {
   "cell_type": "code",
   "execution_count": 67,
   "id": "e62788c1",
   "metadata": {},
   "outputs": [],
   "source": [
    "# ---------------------------- split the data into training and test data\n",
    "train_data = data[0:25000]\n",
    "test_data = data[25000:]"
   ]
  },
  {
   "cell_type": "code",
   "execution_count": 68,
   "id": "b38d2b98",
   "metadata": {},
   "outputs": [
    {
     "data": {
      "text/plain": [
       "((25000, 25), (5000, 25))"
      ]
     },
     "execution_count": 68,
     "metadata": {},
     "output_type": "execute_result"
    }
   ],
   "source": [
    "train_data.shape, test_data.shape"
   ]
  },
  {
   "cell_type": "code",
   "execution_count": 69,
   "id": "df918db0",
   "metadata": {},
   "outputs": [
    {
     "data": {
      "text/plain": [
       "0    19422\n",
       "1     5578\n",
       "Name: def_pay, dtype: int64"
      ]
     },
     "execution_count": 69,
     "metadata": {},
     "output_type": "execute_result"
    }
   ],
   "source": [
    "train_data['def_pay'].value_counts()"
   ]
  },
  {
   "cell_type": "code",
   "execution_count": 70,
   "id": "d8a51064",
   "metadata": {},
   "outputs": [
    {
     "data": {
      "text/plain": [
       "0    3942\n",
       "1    1058\n",
       "Name: def_pay, dtype: int64"
      ]
     },
     "execution_count": 70,
     "metadata": {},
     "output_type": "execute_result"
    }
   ],
   "source": [
    "test_data['def_pay'].value_counts()"
   ]
  },
  {
   "cell_type": "code",
   "execution_count": 71,
   "id": "17c7c984",
   "metadata": {},
   "outputs": [],
   "source": [
    "# ------------------------------ split training set into features and target\n",
    "X = train_data[feat]\n",
    "y = train_data[target]"
   ]
  },
  {
   "cell_type": "code",
   "execution_count": 72,
   "id": "a62260e5",
   "metadata": {},
   "outputs": [],
   "source": [
    "# ------------------------------ split training set\n",
    "from sklearn.model_selection import train_test_split\n",
    "X_train, X_val, y_train, y_val = train_test_split(X, y, test_size = 0.20, random_state = 42, stratify = y)"
   ]
  },
  {
   "cell_type": "code",
   "execution_count": 73,
   "id": "7a6efbfd",
   "metadata": {},
   "outputs": [
    {
     "data": {
      "text/plain": [
       "((20000, 23), (20000,), (5000, 23), (5000,))"
      ]
     },
     "execution_count": 73,
     "metadata": {},
     "output_type": "execute_result"
    }
   ],
   "source": [
    "X_train.shape, y_train.shape, X_val.shape, y_val.shape"
   ]
  },
  {
   "cell_type": "markdown",
   "id": "d3f56a07",
   "metadata": {},
   "source": [
    "## 3. Build and train models\n",
    "- Task: Classification\n",
    "    - Decision Tree\n",
    "    - Random Forest\n",
    "    - Logistic Regression\n",
    "    - Support Vector Machine classifier\n",
    "    - KNN\n",
    "    - Adaptive Boost\n",
    "    - Gradient Boost\n",
    "    - Multi-Layer Perceptron\n",
    "    "
   ]
  },
  {
   "cell_type": "code",
   "execution_count": 74,
   "id": "224a51e7",
   "metadata": {},
   "outputs": [],
   "source": [
    "dt = DecisionTreeClassifier()\n",
    "rf = RandomForestClassifier()\n",
    "lr = LogisticRegression()\n",
    "svc = SVC()\n",
    "knn = KNeighborsClassifier()\n",
    "nb = GaussianNB()\n",
    "gb = GradientBoostingClassifier()\n",
    "ab = AdaBoostClassifier()\n",
    "mlp = MLPClassifier()"
   ]
  },
  {
   "cell_type": "markdown",
   "id": "eddecf49",
   "metadata": {},
   "source": [
    "### 1. Decision Tree"
   ]
  },
  {
   "cell_type": "code",
   "execution_count": 75,
   "id": "5264710a",
   "metadata": {},
   "outputs": [
    {
     "name": "stdout",
     "output_type": "stream",
     "text": [
      "              precision    recall  f1-score   support\n",
      "\n",
      "           0       0.83      0.81      0.82      3884\n",
      "           1       0.38      0.41      0.39      1116\n",
      "\n",
      "    accuracy                           0.72      5000\n",
      "   macro avg       0.60      0.61      0.61      5000\n",
      "weighted avg       0.73      0.72      0.72      5000\n",
      "\n"
     ]
    }
   ],
   "source": [
    "dt.fit(X_train, y_train)\n",
    "y_pred = dt.predict(X_val)\n",
    "#evaluate\n",
    "class_rep_forest = classification_report(y_val, y_pred)\n",
    "print(class_rep_forest)"
   ]
  },
  {
   "cell_type": "markdown",
   "id": "dc75d560",
   "metadata": {},
   "source": [
    "### 2. Random Forest"
   ]
  },
  {
   "cell_type": "code",
   "execution_count": 76,
   "id": "113f1ec8",
   "metadata": {},
   "outputs": [
    {
     "name": "stdout",
     "output_type": "stream",
     "text": [
      "              precision    recall  f1-score   support\n",
      "\n",
      "           0       0.84      0.95      0.89      3884\n",
      "           1       0.66      0.37      0.48      1116\n",
      "\n",
      "    accuracy                           0.82      5000\n",
      "   macro avg       0.75      0.66      0.68      5000\n",
      "weighted avg       0.80      0.82      0.80      5000\n",
      "\n"
     ]
    }
   ],
   "source": [
    "rf.fit(X_train, y_train)\n",
    "y_pred = rf.predict(X_val)\n",
    "#evaluate\n",
    "class_rep_forest2 = classification_report(y_val, y_pred)\n",
    "print(class_rep_forest2)"
   ]
  },
  {
   "cell_type": "markdown",
   "id": "32f7f29a",
   "metadata": {},
   "source": [
    "### 3. Logistic Regression"
   ]
  },
  {
   "cell_type": "code",
   "execution_count": 77,
   "id": "65d92f9b",
   "metadata": {},
   "outputs": [
    {
     "name": "stdout",
     "output_type": "stream",
     "text": [
      "              precision    recall  f1-score   support\n",
      "\n",
      "           0       0.78      1.00      0.87      3884\n",
      "           1       0.11      0.00      0.00      1116\n",
      "\n",
      "    accuracy                           0.78      5000\n",
      "   macro avg       0.44      0.50      0.44      5000\n",
      "weighted avg       0.63      0.78      0.68      5000\n",
      "\n"
     ]
    },
    {
     "name": "stderr",
     "output_type": "stream",
     "text": [
      "C:\\Users\\Inno Mvula\\anaconda3\\lib\\site-packages\\sklearn\\linear_model\\_logistic.py:763: ConvergenceWarning: lbfgs failed to converge (status=1):\n",
      "STOP: TOTAL NO. of ITERATIONS REACHED LIMIT.\n",
      "\n",
      "Increase the number of iterations (max_iter) or scale the data as shown in:\n",
      "    https://scikit-learn.org/stable/modules/preprocessing.html\n",
      "Please also refer to the documentation for alternative solver options:\n",
      "    https://scikit-learn.org/stable/modules/linear_model.html#logistic-regression\n",
      "  n_iter_i = _check_optimize_result(\n"
     ]
    }
   ],
   "source": [
    "lr.fit(X_train, y_train)\n",
    "y_pred = lr.predict(X_val)\n",
    "#evaluate\n",
    "class_rep_forest3 = classification_report(y_val, y_pred)\n",
    "print(class_rep_forest3)"
   ]
  },
  {
   "cell_type": "markdown",
   "id": "b02a48c1",
   "metadata": {},
   "source": [
    "### 4. Support Vector Machine"
   ]
  },
  {
   "cell_type": "code",
   "execution_count": 78,
   "id": "2d82be50",
   "metadata": {},
   "outputs": [
    {
     "name": "stdout",
     "output_type": "stream",
     "text": [
      "              precision    recall  f1-score   support\n",
      "\n",
      "           0       0.78      1.00      0.87      3884\n",
      "           1       0.00      0.00      0.00      1116\n",
      "\n",
      "    accuracy                           0.78      5000\n",
      "   macro avg       0.39      0.50      0.44      5000\n",
      "weighted avg       0.60      0.78      0.68      5000\n",
      "\n"
     ]
    },
    {
     "name": "stderr",
     "output_type": "stream",
     "text": [
      "C:\\Users\\Inno Mvula\\anaconda3\\lib\\site-packages\\sklearn\\metrics\\_classification.py:1245: UndefinedMetricWarning: Precision and F-score are ill-defined and being set to 0.0 in labels with no predicted samples. Use `zero_division` parameter to control this behavior.\n",
      "  _warn_prf(average, modifier, msg_start, len(result))\n",
      "C:\\Users\\Inno Mvula\\anaconda3\\lib\\site-packages\\sklearn\\metrics\\_classification.py:1245: UndefinedMetricWarning: Precision and F-score are ill-defined and being set to 0.0 in labels with no predicted samples. Use `zero_division` parameter to control this behavior.\n",
      "  _warn_prf(average, modifier, msg_start, len(result))\n",
      "C:\\Users\\Inno Mvula\\anaconda3\\lib\\site-packages\\sklearn\\metrics\\_classification.py:1245: UndefinedMetricWarning: Precision and F-score are ill-defined and being set to 0.0 in labels with no predicted samples. Use `zero_division` parameter to control this behavior.\n",
      "  _warn_prf(average, modifier, msg_start, len(result))\n"
     ]
    }
   ],
   "source": [
    "svc.fit(X_train, y_train)\n",
    "y_pred = svc.predict(X_val)\n",
    "#evaluate\n",
    "class_rep_forest4 = classification_report(y_val, y_pred)\n",
    "print(class_rep_forest4)"
   ]
  },
  {
   "cell_type": "markdown",
   "id": "5ee76827",
   "metadata": {},
   "source": [
    "### 5. K-Nearest Neighbor"
   ]
  },
  {
   "cell_type": "code",
   "execution_count": 79,
   "id": "45f5cc7e",
   "metadata": {},
   "outputs": [
    {
     "name": "stdout",
     "output_type": "stream",
     "text": [
      "              precision    recall  f1-score   support\n",
      "\n",
      "           0       0.80      0.91      0.85      3884\n",
      "           1       0.39      0.19      0.26      1116\n",
      "\n",
      "    accuracy                           0.75      5000\n",
      "   macro avg       0.59      0.55      0.55      5000\n",
      "weighted avg       0.71      0.75      0.72      5000\n",
      "\n"
     ]
    }
   ],
   "source": [
    "knn.fit(X_train, y_train)\n",
    "y_pred = knn.predict(X_val)\n",
    "#evaluate\n",
    "class_rep_forest5 = classification_report(y_val, y_pred)\n",
    "print(class_rep_forest5)"
   ]
  },
  {
   "cell_type": "markdown",
   "id": "91f502b5",
   "metadata": {},
   "source": [
    "### 6. Naive Bayes"
   ]
  },
  {
   "cell_type": "code",
   "execution_count": 80,
   "id": "154b416e",
   "metadata": {},
   "outputs": [
    {
     "name": "stdout",
     "output_type": "stream",
     "text": [
      "              precision    recall  f1-score   support\n",
      "\n",
      "           0       0.86      0.27      0.42      3884\n",
      "           1       0.25      0.85      0.39      1116\n",
      "\n",
      "    accuracy                           0.40      5000\n",
      "   macro avg       0.56      0.56      0.40      5000\n",
      "weighted avg       0.73      0.40      0.41      5000\n",
      "\n"
     ]
    }
   ],
   "source": [
    "nb.fit(X_train, y_train)\n",
    "y_pred = nb.predict(X_val)\n",
    "#evaluate\n",
    "class_rep_forest6 = classification_report(y_val, y_pred)\n",
    "print(class_rep_forest6)"
   ]
  },
  {
   "cell_type": "markdown",
   "id": "1b8e8bd2",
   "metadata": {},
   "source": [
    "### 7. Adaptive Boost"
   ]
  },
  {
   "cell_type": "code",
   "execution_count": 81,
   "id": "074d848d",
   "metadata": {},
   "outputs": [
    {
     "name": "stdout",
     "output_type": "stream",
     "text": [
      "              precision    recall  f1-score   support\n",
      "\n",
      "           0       0.83      0.96      0.89      3884\n",
      "           1       0.66      0.30      0.41      1116\n",
      "\n",
      "    accuracy                           0.81      5000\n",
      "   macro avg       0.74      0.63      0.65      5000\n",
      "weighted avg       0.79      0.81      0.78      5000\n",
      "\n"
     ]
    }
   ],
   "source": [
    "ab.fit(X_train, y_train)\n",
    "y_pred = ab.predict(X_val)\n",
    "#evaluate\n",
    "class_rep_forest7 = classification_report(y_val, y_pred)\n",
    "print(class_rep_forest7)"
   ]
  },
  {
   "cell_type": "markdown",
   "id": "3433d297",
   "metadata": {},
   "source": [
    "### 8. Gradient Boost"
   ]
  },
  {
   "cell_type": "code",
   "execution_count": 82,
   "id": "870c25c8",
   "metadata": {},
   "outputs": [
    {
     "name": "stdout",
     "output_type": "stream",
     "text": [
      "              precision    recall  f1-score   support\n",
      "\n",
      "           0       0.84      0.95      0.89      3884\n",
      "           1       0.66      0.35      0.46      1116\n",
      "\n",
      "    accuracy                           0.82      5000\n",
      "   macro avg       0.75      0.65      0.67      5000\n",
      "weighted avg       0.80      0.82      0.79      5000\n",
      "\n"
     ]
    }
   ],
   "source": [
    "gb.fit(X_train, y_train)\n",
    "y_pred = gb.predict(X_val)\n",
    "#evaluate\n",
    "class_rep_forest8 = classification_report(y_val, y_pred)\n",
    "print(class_rep_forest8)"
   ]
  },
  {
   "cell_type": "markdown",
   "id": "38863f96",
   "metadata": {},
   "source": [
    "### 9. Multi-layer perceptron"
   ]
  },
  {
   "cell_type": "code",
   "execution_count": 83,
   "id": "bd026f89",
   "metadata": {},
   "outputs": [
    {
     "name": "stdout",
     "output_type": "stream",
     "text": [
      "              precision    recall  f1-score   support\n",
      "\n",
      "           0       0.83      0.68      0.75      3884\n",
      "           1       0.32      0.52      0.40      1116\n",
      "\n",
      "    accuracy                           0.65      5000\n",
      "   macro avg       0.58      0.60      0.57      5000\n",
      "weighted avg       0.72      0.65      0.67      5000\n",
      "\n"
     ]
    }
   ],
   "source": [
    "mlp.fit(X_train, y_train)\n",
    "y_pred = mlp.predict(X_val)\n",
    "#evaluate\n",
    "class_rep_forest9 = classification_report(y_val, y_pred)\n",
    "print(class_rep_forest9)"
   ]
  },
  {
   "cell_type": "code",
   "execution_count": null,
   "id": "1e6cb1c4",
   "metadata": {},
   "outputs": [],
   "source": []
  }
 ],
 "metadata": {
  "kernelspec": {
   "display_name": "Python 3",
   "language": "python",
   "name": "python3"
  },
  "language_info": {
   "codemirror_mode": {
    "name": "ipython",
    "version": 3
   },
   "file_extension": ".py",
   "mimetype": "text/x-python",
   "name": "python",
   "nbconvert_exporter": "python",
   "pygments_lexer": "ipython3",
   "version": "3.8.8"
  }
 },
 "nbformat": 4,
 "nbformat_minor": 5
}
